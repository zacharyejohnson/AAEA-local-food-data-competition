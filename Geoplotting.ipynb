{
 "cells": [
  {
   "cell_type": "code",
   "execution_count": 1,
   "id": "e43c62df",
   "metadata": {},
   "outputs": [],
   "source": [
    "import geopandas\n",
    "import numpy as np\n",
    "import pandas as pd\n",
    "# We won't actually use datetime directly. Since the dataframe index will use \n",
    "# data formatted as datetime64, I import it in case I need to use the datetime\n",
    "# module to troubleshoot later \n",
    "import datetime\n",
    "# you could technically call many of the submodules from matplotlib using mpl., \n",
    "#but for convenience we explicitly import submodules. These will be used for \n",
    "# constructing visualizations\n",
    "import matplotlib as mpl\n",
    "import matplotlib.pyplot as plt\n",
    "from matplotlib import cm\n",
    "# If you choose to make a dynamic visualization for the homework\n",
    "from matplotlib.animation import FuncAnimation\n",
    "from mpl_toolkits.axes_grid1 import make_axes_locatable\n",
    "from matplotlib.backends.backend_pdf import PdfPages\n",
    "import matplotlib.ticker as mtick\n",
    "\n",
    "def import_geo_data(filename, index_col = \"Date\", FIPS_name = \"FIPS\"):\n",
    "    # import county level shapefile\n",
    "    map_data = geopandas.read_file(filename = filename,                                   \n",
    "                                   index_col = index_col)\n",
    "    # rename fips code to match variable name in COVID-19 data\n",
    "    map_data.rename(columns={\"State\":\"state\"},\n",
    "                    inplace = True)\n",
    "    # Combine statefips and county fips to create a single fips value\n",
    "    # that identifies each particular county without referencing the \n",
    "    # state separately\n",
    "    map_data[FIPS_name] = map_data[\"STATEFP\"].astype(str) + \\\n",
    "        map_data[\"COUNTYFP\"].astype(str)\n",
    "    map_data[FIPS_name] = map_data[FIPS_name].astype(np.int64)\n",
    "    # set FIPS as index\n",
    "    map_data.set_index(FIPS_name, inplace=True)\n",
    "    \n",
    "    return map_data\n",
    "\n",
    "plt.rcParams['axes.ymargin'] = 0\n",
    "plt.rcParams['axes.xmargin'] = 0\n",
    "plt.rcParams.update({'font.size': 32})\n",
    "\n",
    "#if \"data_processed\" not in locals():\n",
    "fips_name = \"fips_code\"\n",
    "# covid_filename = \"COVID19DataAP.csv\"\n",
    "# rename_FIPS matches map_data FIPS with COVID19 FIPS name\n",
    "map_data = import_geo_data(\n",
    "    filename = \"countiesWithStatesAndPopulation.shp\",\n",
    "    index_col = \"Date\", FIPS_name= fips_name)\n",
    "# dates will be used to create a geopandas DataFrame with multiindex \n"
   ]
  },
  {
   "cell_type": "code",
   "execution_count": 2,
   "id": "555e2a88",
   "metadata": {},
   "outputs": [
    {
     "name": "stdout",
     "output_type": "stream",
     "text": [
      "Processing c:\\users\\hthog\\documents\\repositories\\food\\gdal-3.4.3-cp39-cp39-win_amd64.whl\n",
      "Installing collected packages: GDAL\n",
      "Successfully installed GDAL-3.4.3\n",
      "Processing c:\\users\\hthog\\documents\\repositories\\food\\fiona-1.8.21-cp39-cp39-win_amd64.whl\n",
      "Requirement already satisfied: certifi in c:\\users\\hthog\\anaconda3\\lib\\site-packages (from Fiona==1.8.21) (2022.12.7)\n",
      "Requirement already satisfied: click-plugins>=1.0 in c:\\users\\hthog\\anaconda3\\lib\\site-packages (from Fiona==1.8.21) (1.1.1)\n",
      "Requirement already satisfied: click>=4.0 in c:\\users\\hthog\\anaconda3\\lib\\site-packages (from Fiona==1.8.21) (8.0.4)\n",
      "Requirement already satisfied: cligj>=0.5 in c:\\users\\hthog\\anaconda3\\lib\\site-packages (from Fiona==1.8.21) (0.7.2)\n",
      "Requirement already satisfied: six>=1.7 in c:\\users\\hthog\\anaconda3\\lib\\site-packages (from Fiona==1.8.21) (1.16.0)\n",
      "Requirement already satisfied: setuptools in c:\\users\\hthog\\anaconda3\\lib\\site-packages (from Fiona==1.8.21) (67.6.1)\n",
      "Requirement already satisfied: munch in c:\\users\\hthog\\anaconda3\\lib\\site-packages (from Fiona==1.8.21) (2.5.0)\n",
      "Requirement already satisfied: attrs>=17 in c:\\users\\hthog\\anaconda3\\lib\\site-packages (from Fiona==1.8.21) (22.1.0)\n",
      "Requirement already satisfied: gdal~=3.4.1 in c:\\users\\hthog\\anaconda3\\lib\\site-packages (from Fiona==1.8.21) (3.4.3)\n",
      "Requirement already satisfied: colorama in c:\\users\\hthog\\anaconda3\\lib\\site-packages (from click>=4.0->Fiona==1.8.21) (0.4.5)\n",
      "Installing collected packages: Fiona\n",
      "  Attempting uninstall: Fiona\n",
      "    Found existing installation: Fiona 1.9.3\n",
      "    Uninstalling Fiona-1.9.3:\n"
     ]
    },
    {
     "name": "stderr",
     "output_type": "stream",
     "text": [
      "ERROR: Could not install packages due to an OSError: [WinError 5] Access is denied: 'c:\\\\users\\\\hthog\\\\anaconda3\\\\lib\\\\site-packages\\\\fiona\\\\crs.cp39-win_amd64.pyd'\n",
      "Consider using the `--user` option or check the permissions.\n",
      "\n"
     ]
    },
    {
     "name": "stdout",
     "output_type": "stream",
     "text": [
      "Processing c:\\users\\hthog\\documents\\repositories\\food\\shapely-1.8.2-cp39-cp39-win_amd64.whl\n",
      "Installing collected packages: Shapely\n",
      "  Attempting uninstall: Shapely\n",
      "    Found existing installation: shapely 2.0.1\n",
      "    Uninstalling shapely-2.0.1:\n",
      "      Successfully uninstalled shapely-2.0.1\n"
     ]
    },
    {
     "name": "stderr",
     "output_type": "stream",
     "text": [
      "WARNING: Ignoring invalid distribution -iona (c:\\users\\hthog\\anaconda3\\lib\\site-packages)\n",
      "WARNING: Ignoring invalid distribution -iona (c:\\users\\hthog\\anaconda3\\lib\\site-packages)\n",
      "WARNING: Ignoring invalid distribution -iona (c:\\users\\hthog\\anaconda3\\lib\\site-packages)\n",
      "    WARNING: Ignoring invalid distribution -iona (c:\\users\\hthog\\anaconda3\\lib\\site-packages)\n",
      "ERROR: Could not install packages due to an OSError: [WinError 5] Access is denied: 'C:\\\\Users\\\\hthog\\\\anaconda3\\\\Lib\\\\site-packages\\\\~hapely.libs\\\\geos-da1d0573fe2d0951fd7deec2c381e798.dll'\n",
      "Consider using the `--user` option or check the permissions.\n",
      "\n",
      "WARNING: Ignoring invalid distribution -iona (c:\\users\\hthog\\anaconda3\\lib\\site-packages)\n",
      "WARNING: Ignoring invalid distribution -iona (c:\\users\\hthog\\anaconda3\\lib\\site-packages)\n",
      "WARNING: Ignoring invalid distribution -iona (c:\\users\\hthog\\anaconda3\\lib\\site-packages)\n"
     ]
    },
    {
     "name": "stdout",
     "output_type": "stream",
     "text": [
      "Requirement already satisfied: geopandas in c:\\users\\hthog\\anaconda3\\lib\\site-packages (0.12.2)\n",
      "Requirement already satisfied: pandas>=1.0.0 in c:\\users\\hthog\\anaconda3\\lib\\site-packages (from geopandas) (1.5.2)\n",
      "Requirement already satisfied: shapely>=1.7 in c:\\users\\hthog\\anaconda3\\lib\\site-packages (from geopandas) (1.8.2)\n",
      "Collecting fiona>=1.8\n",
      "  Downloading Fiona-1.9.4.post1-cp39-cp39-win_amd64.whl (22.7 MB)\n",
      "     ---------------------------------------- 22.7/22.7 MB 8.8 MB/s eta 0:00:00\n",
      "Requirement already satisfied: pyproj>=2.6.1.post1 in c:\\users\\hthog\\anaconda3\\lib\\site-packages (from geopandas) (3.5.0)\n",
      "Requirement already satisfied: packaging in c:\\users\\hthog\\anaconda3\\lib\\site-packages (from geopandas) (21.3)\n",
      "Requirement already satisfied: attrs>=19.2.0 in c:\\users\\hthog\\anaconda3\\lib\\site-packages (from fiona>=1.8->geopandas) (22.1.0)\n",
      "Requirement already satisfied: six in c:\\users\\hthog\\anaconda3\\lib\\site-packages (from fiona>=1.8->geopandas) (1.16.0)\n",
      "Requirement already satisfied: importlib-metadata in c:\\users\\hthog\\anaconda3\\lib\\site-packages (from fiona>=1.8->geopandas) (5.2.0)\n",
      "Requirement already satisfied: cligj>=0.5 in c:\\users\\hthog\\anaconda3\\lib\\site-packages (from fiona>=1.8->geopandas) (0.7.2)\n",
      "Requirement already satisfied: certifi in c:\\users\\hthog\\anaconda3\\lib\\site-packages (from fiona>=1.8->geopandas) (2022.12.7)\n",
      "Requirement already satisfied: click-plugins>=1.0 in c:\\users\\hthog\\anaconda3\\lib\\site-packages (from fiona>=1.8->geopandas) (1.1.1)\n",
      "Requirement already satisfied: click~=8.0 in c:\\users\\hthog\\anaconda3\\lib\\site-packages (from fiona>=1.8->geopandas) (8.0.4)\n",
      "Requirement already satisfied: python-dateutil>=2.8.1 in c:\\users\\hthog\\anaconda3\\lib\\site-packages (from pandas>=1.0.0->geopandas) (2.8.2)\n",
      "Requirement already satisfied: numpy>=1.20.3 in c:\\users\\hthog\\anaconda3\\lib\\site-packages (from pandas>=1.0.0->geopandas) (1.23.5)\n",
      "Requirement already satisfied: pytz>=2020.1 in c:\\users\\hthog\\anaconda3\\lib\\site-packages (from pandas>=1.0.0->geopandas) (2022.7.1)\n",
      "Requirement already satisfied: pyparsing!=3.0.5,>=2.0.2 in c:\\users\\hthog\\anaconda3\\lib\\site-packages (from packaging->geopandas) (3.0.9)\n",
      "Requirement already satisfied: colorama in c:\\users\\hthog\\anaconda3\\lib\\site-packages (from click~=8.0->fiona>=1.8->geopandas) (0.4.5)\n",
      "Requirement already satisfied: zipp>=0.5 in c:\\users\\hthog\\anaconda3\\lib\\site-packages (from importlib-metadata->fiona>=1.8->geopandas) (3.11.0)\n",
      "Installing collected packages: fiona\n"
     ]
    },
    {
     "name": "stderr",
     "output_type": "stream",
     "text": [
      "WARNING: Ignoring invalid distribution -iona (c:\\users\\hthog\\anaconda3\\lib\\site-packages)\n",
      "WARNING: Ignoring invalid distribution -iona (c:\\users\\hthog\\anaconda3\\lib\\site-packages)\n",
      "WARNING: Ignoring invalid distribution -iona (c:\\users\\hthog\\anaconda3\\lib\\site-packages)\n",
      "ERROR: Could not install packages due to an OSError: [WinError 5] Access is denied: 'C:\\\\Users\\\\hthog\\\\anaconda3\\\\Lib\\\\site-packages\\\\fiona\\\\crs.cp39-win_amd64.pyd'\n",
      "Consider using the `--user` option or check the permissions.\n",
      "\n",
      "WARNING: Ignoring invalid distribution -iona (c:\\users\\hthog\\anaconda3\\lib\\site-packages)\n",
      "WARNING: Ignoring invalid distribution -iona (c:\\users\\hthog\\anaconda3\\lib\\site-packages)\n",
      "WARNING: Ignoring invalid distribution -iona (c:\\users\\hthog\\anaconda3\\lib\\site-packages)\n"
     ]
    }
   ],
   "source": [
    "!pip install GDAL-3.4.3-cp39-cp39-win_amd64.whl\n",
    "!pip install Fiona-1.8.21-cp39-cp39-win_amd64.whl\n",
    "!pip install Shapely-1.8.2-cp39-cp39-win_amd64.whl\n",
    "!pip install geopandas"
   ]
  }
 ],
 "metadata": {
  "kernelspec": {
   "display_name": "Python 3 (ipykernel)",
   "language": "python",
   "name": "python3"
  },
  "language_info": {
   "codemirror_mode": {
    "name": "ipython",
    "version": 3
   },
   "file_extension": ".py",
   "mimetype": "text/x-python",
   "name": "python",
   "nbconvert_exporter": "python",
   "pygments_lexer": "ipython3",
   "version": "3.9.13"
  }
 },
 "nbformat": 4,
 "nbformat_minor": 5
}
