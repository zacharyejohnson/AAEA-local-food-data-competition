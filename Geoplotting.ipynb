{
 "cells": [
  {
   "cell_type": "code",
   "execution_count": 12,
   "id": "e43c62df",
   "metadata": {},
   "outputs": [
    {
     "ename": "ImportError",
     "evalue": "The 'read_file' function requires the 'pyogrio' or 'fiona' package, but neither is installed or imports correctly.\nImporting fiona resulted in: DLL load failed while importing ogrext: The specified module could not be found.\nImporting pyogrio resulted in: No module named 'pyogrio'",
     "output_type": "error",
     "traceback": [
      "\u001b[1;31m---------------------------------------------------------------------------\u001b[0m",
      "\u001b[1;31mImportError\u001b[0m                               Traceback (most recent call last)",
      "\u001b[1;32m~\\AppData\\Local\\Temp\\ipykernel_15904\\119976126.py\u001b[0m in \u001b[0;36m<module>\u001b[1;34m\u001b[0m\n\u001b[0;32m     44\u001b[0m \u001b[1;31m# covid_filename = \"COVID19DataAP.csv\"\u001b[0m\u001b[1;33m\u001b[0m\u001b[1;33m\u001b[0m\u001b[0m\n\u001b[0;32m     45\u001b[0m \u001b[1;31m# rename_FIPS matches map_data FIPS with COVID19 FIPS name\u001b[0m\u001b[1;33m\u001b[0m\u001b[1;33m\u001b[0m\u001b[0m\n\u001b[1;32m---> 46\u001b[1;33m map_data = import_geo_data(\n\u001b[0m\u001b[0;32m     47\u001b[0m     \u001b[0mfilename\u001b[0m \u001b[1;33m=\u001b[0m \u001b[1;34m\"countiesWithStatesAndPopulation.shp\"\u001b[0m\u001b[1;33m,\u001b[0m\u001b[1;33m\u001b[0m\u001b[1;33m\u001b[0m\u001b[0m\n\u001b[0;32m     48\u001b[0m     index_col = \"Date\", FIPS_name= fips_name)\n",
      "\u001b[1;32m~\\AppData\\Local\\Temp\\ipykernel_15904\\119976126.py\u001b[0m in \u001b[0;36mimport_geo_data\u001b[1;34m(filename, index_col, FIPS_name)\u001b[0m\n\u001b[0;32m     20\u001b[0m \u001b[1;32mdef\u001b[0m \u001b[0mimport_geo_data\u001b[0m\u001b[1;33m(\u001b[0m\u001b[0mfilename\u001b[0m\u001b[1;33m,\u001b[0m \u001b[0mindex_col\u001b[0m \u001b[1;33m=\u001b[0m \u001b[1;34m\"Date\"\u001b[0m\u001b[1;33m,\u001b[0m \u001b[0mFIPS_name\u001b[0m \u001b[1;33m=\u001b[0m \u001b[1;34m\"FIPS\"\u001b[0m\u001b[1;33m)\u001b[0m\u001b[1;33m:\u001b[0m\u001b[1;33m\u001b[0m\u001b[1;33m\u001b[0m\u001b[0m\n\u001b[0;32m     21\u001b[0m     \u001b[1;31m# import county level shapefile\u001b[0m\u001b[1;33m\u001b[0m\u001b[1;33m\u001b[0m\u001b[0m\n\u001b[1;32m---> 22\u001b[1;33m     map_data = geopandas.read_file(filename = filename,                                   \n\u001b[0m\u001b[0;32m     23\u001b[0m                                    index_col = index_col)\n\u001b[0;32m     24\u001b[0m     \u001b[1;31m# rename fips code to match variable name in COVID-19 data\u001b[0m\u001b[1;33m\u001b[0m\u001b[1;33m\u001b[0m\u001b[0m\n",
      "\u001b[1;32m~\\anaconda3\\lib\\site-packages\\geopandas\\io\\file.py\u001b[0m in \u001b[0;36m_read_file\u001b[1;34m(filename, bbox, mask, rows, engine, **kwargs)\u001b[0m\n\u001b[0;32m    240\u001b[0m     \u001b[0mby\u001b[0m \u001b[0musing\u001b[0m \u001b[0mthe\u001b[0m \u001b[0mencoding\u001b[0m \u001b[0mkeyword\u001b[0m \u001b[0mparameter\u001b[0m\u001b[1;33m,\u001b[0m \u001b[0me\u001b[0m\u001b[1;33m.\u001b[0m\u001b[0mg\u001b[0m\u001b[1;33m.\u001b[0m\u001b[0;31m \u001b[0m\u001b[0;31m`\u001b[0m\u001b[0;31m`\u001b[0m\u001b[0mencoding\u001b[0m\u001b[1;33m=\u001b[0m\u001b[1;34m'utf-8'\u001b[0m\u001b[0;31m`\u001b[0m\u001b[0;31m`\u001b[0m\u001b[1;33m.\u001b[0m\u001b[1;33m\u001b[0m\u001b[1;33m\u001b[0m\u001b[0m\n\u001b[0;32m    241\u001b[0m     \"\"\"\n\u001b[1;32m--> 242\u001b[1;33m     \u001b[0mengine\u001b[0m \u001b[1;33m=\u001b[0m \u001b[0m_check_engine\u001b[0m\u001b[1;33m(\u001b[0m\u001b[0mengine\u001b[0m\u001b[1;33m,\u001b[0m \u001b[1;34m\"'read_file' function\"\u001b[0m\u001b[1;33m)\u001b[0m\u001b[1;33m\u001b[0m\u001b[1;33m\u001b[0m\u001b[0m\n\u001b[0m\u001b[0;32m    243\u001b[0m \u001b[1;33m\u001b[0m\u001b[0m\n\u001b[0;32m    244\u001b[0m     \u001b[0mfilename\u001b[0m \u001b[1;33m=\u001b[0m \u001b[0m_expand_user\u001b[0m\u001b[1;33m(\u001b[0m\u001b[0mfilename\u001b[0m\u001b[1;33m)\u001b[0m\u001b[1;33m\u001b[0m\u001b[1;33m\u001b[0m\u001b[0m\n",
      "\u001b[1;32m~\\anaconda3\\lib\\site-packages\\geopandas\\io\\file.py\u001b[0m in \u001b[0;36m_check_engine\u001b[1;34m(engine, func)\u001b[0m\n\u001b[0;32m    110\u001b[0m         \u001b[0m_check_pyogrio\u001b[0m\u001b[1;33m(\u001b[0m\u001b[0mfunc\u001b[0m\u001b[1;33m)\u001b[0m\u001b[1;33m\u001b[0m\u001b[1;33m\u001b[0m\u001b[0m\n\u001b[0;32m    111\u001b[0m     \u001b[1;32melif\u001b[0m \u001b[0mengine\u001b[0m \u001b[1;32mis\u001b[0m \u001b[1;32mNone\u001b[0m\u001b[1;33m:\u001b[0m\u001b[1;33m\u001b[0m\u001b[1;33m\u001b[0m\u001b[0m\n\u001b[1;32m--> 112\u001b[1;33m         raise ImportError(\n\u001b[0m\u001b[0;32m    113\u001b[0m             \u001b[1;34mf\"The {func} requires the 'pyogrio' or 'fiona' package, \"\u001b[0m\u001b[1;33m\u001b[0m\u001b[1;33m\u001b[0m\u001b[0m\n\u001b[0;32m    114\u001b[0m             \u001b[1;34m\"but neither is installed or imports correctly.\"\u001b[0m\u001b[1;33m\u001b[0m\u001b[1;33m\u001b[0m\u001b[0m\n",
      "\u001b[1;31mImportError\u001b[0m: The 'read_file' function requires the 'pyogrio' or 'fiona' package, but neither is installed or imports correctly.\nImporting fiona resulted in: DLL load failed while importing ogrext: The specified module could not be found.\nImporting pyogrio resulted in: No module named 'pyogrio'"
     ]
    }
   ],
   "source": [
    "import geopandas\n",
    "import numpy as np\n",
    "import pandas as pd\n",
    "# We won't actually use datetime directly. Since the dataframe index will use \n",
    "# data formatted as datetime64, I import it in case I need to use the datetime\n",
    "# module to troubleshoot later \n",
    "import datetime\n",
    "# you could technically call many of the submodules from matplotlib using mpl., \n",
    "#but for convenience we explicitly import submodules. These will be used for \n",
    "# constructing visualizations\n",
    "import matplotlib as mpl\n",
    "import matplotlib.pyplot as plt\n",
    "from matplotlib import cm\n",
    "# If you choose to make a dynamic visualization for the homework\n",
    "from matplotlib.animation import FuncAnimation\n",
    "from mpl_toolkits.axes_grid1 import make_axes_locatable\n",
    "from matplotlib.backends.backend_pdf import PdfPages\n",
    "import matplotlib.ticker as mtick\n",
    "\n",
    "def import_geo_data(filename, index_col = \"Date\", FIPS_name = \"FIPS\"):\n",
    "    # import county level shapefile\n",
    "    map_data = geopandas.read_file(filename = filename,                                   \n",
    "                                   index_col = index_col)\n",
    "    # rename fips code to match variable name in COVID-19 data\n",
    "    map_data.rename(columns={\"State\":\"state\"},\n",
    "                    inplace = True)\n",
    "    # Combine statefips and county fips to create a single fips value\n",
    "    # that identifies each particular county without referencing the \n",
    "    # state separately\n",
    "    map_data[FIPS_name] = map_data[\"STATEFP\"].astype(str) + \\\n",
    "        map_data[\"COUNTYFP\"].astype(str)\n",
    "    map_data[FIPS_name] = map_data[FIPS_name].astype(np.int64)\n",
    "    # set FIPS as index\n",
    "    map_data.set_index(FIPS_name, inplace=True)\n",
    "    \n",
    "    return map_data\n",
    "\n",
    "plt.rcParams['axes.ymargin'] = 0\n",
    "plt.rcParams['axes.xmargin'] = 0\n",
    "plt.rcParams.update({'font.size': 32})\n",
    "\n",
    "#if \"data_processed\" not in locals():\n",
    "fips_name = \"fips_code\"\n",
    "# covid_filename = \"COVID19DataAP.csv\"\n",
    "# rename_FIPS matches map_data FIPS with COVID19 FIPS name\n",
    "map_data = import_geo_data(\n",
    "    filename = \"countiesWithStatesAndPopulation.shp\",\n",
    "    index_col = \"Date\", FIPS_name= fips_name)\n",
    "# dates will be used to create a geopandas DataFrame with multiindex \n"
   ]
  },
  {
   "cell_type": "code",
   "execution_count": 8,
   "id": "555e2a88",
   "metadata": {},
   "outputs": [
    {
     "name": "stdout",
     "output_type": "stream",
     "text": [
      "Processing c:\\users\\ndsu-prof\\documents\\github\\academics\\local_food_econ_data_comp\\aaea-local-food-data-competition\\gdal-3.4.3-cp39-cp39-win_amd64.whl\n",
      "GDAL is already installed with the same version as the provided wheel. Use --force-reinstall to force an installation of the wheel.\n"
     ]
    },
    {
     "name": "stderr",
     "output_type": "stream",
     "text": [
      "WARNING: Ignoring invalid distribution -iona (c:\\users\\ndsu-prof\\anaconda3\\lib\\site-packages)\n",
      "WARNING: Ignoring invalid distribution -iona (c:\\users\\ndsu-prof\\anaconda3\\lib\\site-packages)\n",
      "WARNING: Ignoring invalid distribution -iona (c:\\users\\ndsu-prof\\anaconda3\\lib\\site-packages)\n",
      "WARNING: Error parsing requirements for shapely: [Errno 2] No such file or directory: 'c:\\\\users\\\\ndsu-prof\\\\anaconda3\\\\lib\\\\site-packages\\\\shapely-2.0.1.dist-info\\\\METADATA'\n",
      "WARNING: Ignoring invalid distribution -iona (c:\\users\\ndsu-prof\\anaconda3\\lib\\site-packages)\n",
      "WARNING: Ignoring invalid distribution -iona (c:\\users\\ndsu-prof\\anaconda3\\lib\\site-packages)\n",
      "WARNING: Ignoring invalid distribution -iona (c:\\users\\ndsu-prof\\anaconda3\\lib\\site-packages)\n"
     ]
    },
    {
     "name": "stdout",
     "output_type": "stream",
     "text": [
      "Processing c:\\users\\ndsu-prof\\documents\\github\\academics\\local_food_econ_data_comp\\aaea-local-food-data-competition\\fiona-1.8.21-cp39-cp39-win_amd64.whl\n",
      "Requirement already satisfied: click-plugins>=1.0 in c:\\users\\ndsu-prof\\anaconda3\\lib\\site-packages (from Fiona==1.8.21) (1.1.1)\n",
      "Requirement already satisfied: cligj>=0.5 in c:\\users\\ndsu-prof\\anaconda3\\lib\\site-packages (from Fiona==1.8.21) (0.7.2)\n",
      "Requirement already satisfied: gdal~=3.4.1 in c:\\users\\ndsu-prof\\anaconda3\\lib\\site-packages (from Fiona==1.8.21) (3.4.3)\n",
      "Requirement already satisfied: attrs>=17 in c:\\users\\ndsu-prof\\anaconda3\\lib\\site-packages (from Fiona==1.8.21) (21.4.0)\n",
      "Requirement already satisfied: six>=1.7 in c:\\users\\ndsu-prof\\anaconda3\\lib\\site-packages (from Fiona==1.8.21) (1.16.0)\n",
      "Requirement already satisfied: setuptools in c:\\users\\ndsu-prof\\anaconda3\\lib\\site-packages (from Fiona==1.8.21) (67.7.2)\n",
      "Requirement already satisfied: click>=4.0 in c:\\users\\ndsu-prof\\anaconda3\\lib\\site-packages (from Fiona==1.8.21) (8.0.4)\n",
      "Requirement already satisfied: munch in c:\\users\\ndsu-prof\\anaconda3\\lib\\site-packages (from Fiona==1.8.21) (3.0.0)\n",
      "Requirement already satisfied: certifi in c:\\users\\ndsu-prof\\anaconda3\\lib\\site-packages (from Fiona==1.8.21) (2022.9.14)\n",
      "Requirement already satisfied: colorama in c:\\users\\ndsu-prof\\anaconda3\\lib\\site-packages (from click>=4.0->Fiona==1.8.21) (0.4.5)\n",
      "Fiona is already installed with the same version as the provided wheel. Use --force-reinstall to force an installation of the wheel.\n"
     ]
    },
    {
     "name": "stderr",
     "output_type": "stream",
     "text": [
      "WARNING: Ignoring invalid distribution -iona (c:\\users\\ndsu-prof\\anaconda3\\lib\\site-packages)\n",
      "WARNING: Ignoring invalid distribution -iona (c:\\users\\ndsu-prof\\anaconda3\\lib\\site-packages)\n",
      "WARNING: Ignoring invalid distribution -iona (c:\\users\\ndsu-prof\\anaconda3\\lib\\site-packages)\n",
      "WARNING: Error parsing requirements for shapely: [Errno 2] No such file or directory: 'c:\\\\users\\\\ndsu-prof\\\\anaconda3\\\\lib\\\\site-packages\\\\shapely-2.0.1.dist-info\\\\METADATA'\n",
      "WARNING: Ignoring invalid distribution -iona (c:\\users\\ndsu-prof\\anaconda3\\lib\\site-packages)\n",
      "WARNING: Ignoring invalid distribution -iona (c:\\users\\ndsu-prof\\anaconda3\\lib\\site-packages)\n",
      "WARNING: Ignoring invalid distribution -iona (c:\\users\\ndsu-prof\\anaconda3\\lib\\site-packages)\n"
     ]
    },
    {
     "name": "stdout",
     "output_type": "stream",
     "text": [
      "Processing c:\\users\\ndsu-prof\\documents\\github\\academics\\local_food_econ_data_comp\\aaea-local-food-data-competition\\shapely-1.8.2-cp39-cp39-win_amd64.whl\n",
      "Installing collected packages: Shapely\n",
      "  Attempting uninstall: Shapely\n",
      "    Found existing installation: shapely 2.0.1\n"
     ]
    },
    {
     "name": "stderr",
     "output_type": "stream",
     "text": [
      "WARNING: Ignoring invalid distribution -iona (c:\\users\\ndsu-prof\\anaconda3\\lib\\site-packages)\n",
      "WARNING: Ignoring invalid distribution -iona (c:\\users\\ndsu-prof\\anaconda3\\lib\\site-packages)\n",
      "WARNING: Ignoring invalid distribution -iona (c:\\users\\ndsu-prof\\anaconda3\\lib\\site-packages)\n",
      "WARNING: Error parsing requirements for shapely: [Errno 2] No such file or directory: 'c:\\\\users\\\\ndsu-prof\\\\anaconda3\\\\lib\\\\site-packages\\\\shapely-2.0.1.dist-info\\\\METADATA'\n",
      "    WARNING: Ignoring invalid distribution -iona (c:\\users\\ndsu-prof\\anaconda3\\lib\\site-packages)\n",
      "    WARNING: No metadata found in c:\\users\\ndsu-prof\\anaconda3\\lib\\site-packages\n",
      "ERROR: Cannot uninstall shapely 2.0.1, RECORD file not found. You might be able to recover from this via: 'pip install --force-reinstall --no-deps shapely==2.0.1'.\n",
      "WARNING: Ignoring invalid distribution -iona (c:\\users\\ndsu-prof\\anaconda3\\lib\\site-packages)\n",
      "WARNING: Ignoring invalid distribution -iona (c:\\users\\ndsu-prof\\anaconda3\\lib\\site-packages)\n",
      "WARNING: Ignoring invalid distribution -iona (c:\\users\\ndsu-prof\\anaconda3\\lib\\site-packages)\n"
     ]
    },
    {
     "name": "stdout",
     "output_type": "stream",
     "text": [
      "Requirement already satisfied: geopandas in c:\\users\\ndsu-prof\\anaconda3\\lib\\site-packages (0.13.2)\n",
      "Requirement already satisfied: shapely>=1.7.1 in c:\\users\\ndsu-prof\\anaconda3\\lib\\site-packages (from geopandas) (2.0.1)\n",
      "Requirement already satisfied: pandas>=1.1.0 in c:\\users\\ndsu-prof\\anaconda3\\lib\\site-packages (from geopandas) (1.4.4)\n",
      "Requirement already satisfied: fiona>=1.8.19 in c:\\users\\ndsu-prof\\anaconda3\\lib\\site-packages (from geopandas) (1.8.21)\n",
      "Requirement already satisfied: pyproj>=3.0.1 in c:\\users\\ndsu-prof\\anaconda3\\lib\\site-packages (from geopandas) (3.5.0)\n",
      "Requirement already satisfied: packaging in c:\\users\\ndsu-prof\\anaconda3\\lib\\site-packages (from geopandas) (21.3)\n",
      "Requirement already satisfied: attrs>=17 in c:\\users\\ndsu-prof\\anaconda3\\lib\\site-packages (from fiona>=1.8.19->geopandas) (21.4.0)\n",
      "Requirement already satisfied: certifi in c:\\users\\ndsu-prof\\anaconda3\\lib\\site-packages (from fiona>=1.8.19->geopandas) (2022.9.14)\n",
      "Requirement already satisfied: click>=4.0 in c:\\users\\ndsu-prof\\anaconda3\\lib\\site-packages (from fiona>=1.8.19->geopandas) (8.0.4)\n",
      "Requirement already satisfied: cligj>=0.5 in c:\\users\\ndsu-prof\\anaconda3\\lib\\site-packages (from fiona>=1.8.19->geopandas) (0.7.2)\n",
      "Requirement already satisfied: click-plugins>=1.0 in c:\\users\\ndsu-prof\\anaconda3\\lib\\site-packages (from fiona>=1.8.19->geopandas) (1.1.1)\n",
      "Requirement already satisfied: six>=1.7 in c:\\users\\ndsu-prof\\anaconda3\\lib\\site-packages (from fiona>=1.8.19->geopandas) (1.16.0)\n",
      "Requirement already satisfied: munch in c:\\users\\ndsu-prof\\anaconda3\\lib\\site-packages (from fiona>=1.8.19->geopandas) (3.0.0)\n",
      "Requirement already satisfied: setuptools in c:\\users\\ndsu-prof\\anaconda3\\lib\\site-packages (from fiona>=1.8.19->geopandas) (67.7.2)\n",
      "Requirement already satisfied: pytz>=2020.1 in c:\\users\\ndsu-prof\\anaconda3\\lib\\site-packages (from pandas>=1.1.0->geopandas) (2023.3)\n",
      "Requirement already satisfied: numpy>=1.18.5 in c:\\users\\ndsu-prof\\anaconda3\\lib\\site-packages (from pandas>=1.1.0->geopandas) (1.21.5)\n",
      "Requirement already satisfied: python-dateutil>=2.8.1 in c:\\users\\ndsu-prof\\anaconda3\\lib\\site-packages (from pandas>=1.1.0->geopandas) (2.8.2)\n"
     ]
    },
    {
     "name": "stderr",
     "output_type": "stream",
     "text": [
      "WARNING: Ignoring invalid distribution -iona (c:\\users\\ndsu-prof\\anaconda3\\lib\\site-packages)\n",
      "WARNING: Ignoring invalid distribution -iona (c:\\users\\ndsu-prof\\anaconda3\\lib\\site-packages)\n",
      "ERROR: Could not install packages due to an OSError: [Errno 2] No such file or directory: 'c:\\\\users\\\\ndsu-prof\\\\anaconda3\\\\lib\\\\site-packages\\\\shapely-2.0.1.dist-info\\\\METADATA'\n",
      "\n",
      "WARNING: Ignoring invalid distribution -iona (c:\\users\\ndsu-prof\\anaconda3\\lib\\site-packages)\n",
      "WARNING: Ignoring invalid distribution -iona (c:\\users\\ndsu-prof\\anaconda3\\lib\\site-packages)\n",
      "WARNING: Ignoring invalid distribution -iona (c:\\users\\ndsu-prof\\anaconda3\\lib\\site-packages)\n"
     ]
    }
   ],
   "source": [
    "!pip install GDAL-3.4.3-cp39-cp39-win_amd64.whl\n",
    "!pip install Fiona-1.8.21-cp39-cp39-win_amd64.whl\n",
    "!pip install Shapely-1.8.2-cp39-cp39-win_amd64.whl\n",
    "!pip install geopandas"
   ]
  }
 ],
 "metadata": {
  "kernelspec": {
   "display_name": "Python 3 (ipykernel)",
   "language": "python",
   "name": "python3"
  },
  "language_info": {
   "codemirror_mode": {
    "name": "ipython",
    "version": 3
   },
   "file_extension": ".py",
   "mimetype": "text/x-python",
   "name": "python",
   "nbconvert_exporter": "python",
   "pygments_lexer": "ipython3",
   "version": "3.9.13"
  }
 },
 "nbformat": 4,
 "nbformat_minor": 5
}
